{
 "cells": [
  {
   "cell_type": "markdown",
   "id": "a2255ee3-5253-4690-bd92-10decbee002f",
   "metadata": {},
   "source": [
    "# Community Day 2024 Supply Chain Security Tutorial\n",
    "This years tutorial is about using Chainloop for attestions and combining that with SignServer to sign the attestations. EJBCA is used to issue certificates for the signing and TLS. \n",
    "\n",
    "This tutorial will walk you through the following:\n",
    "- Building a container for this tutorial\n",
    "- Generating a CycloneDX Software Bill of Materials (SBOM) using Trivy\n",
    "- Scanning the container for CVE's using Trivy\n",
    "- Pushing the container to an Open Container Initiative (OCI) ZOT registry using Skopeo\n",
    "- Sign the container using Cosgin and Signserver\n",
    "- Add an OCI registry to Chainloop\n",
    "- Create a workflow and add policy to the workflow in Chainloop\n",
    "- Create an attestation in Chainloop\n",
    "- Sign the Chainloop attestation with Chainloop\n",
    "\n",
    "The virtual machine that is used for this tutorial has all the pieces/components in place to complete this tutorial. This VM is meant for testing and should not be used in a production environment.\n",
    "\n",
    "## Build the simple-todo container\n",
    "The first part of this journey starts with building the container with Docker. Follow the steps below to build and test the simple-todo container.\n",
    "1. Build the container with Docker:"
   ]
  },
  {
   "cell_type": "code",
   "execution_count": null,
   "id": "220e3330-8326-4c3c-aeb2-d95f0143927f",
   "metadata": {},
   "outputs": [],
   "source": [
    "docker build -t registry.community2024.local/simple-todo -f simple-todo/Dockerfile simple-todo"
   ]
  },
  {
   "cell_type": "markdown",
   "id": "c44b7c8c-7f33-4c4a-8485-ed795ee707a2",
   "metadata": {},
   "source": [
    "2. Start the container for simple validation test:"
   ]
  },
  {
   "cell_type": "code",
   "execution_count": null,
   "id": "1f433604-b455-48f0-85af-95378385c72a",
   "metadata": {},
   "outputs": [],
   "source": [
    "docker run -d --rm  --name todos -p 12345:12345 registry.community2024.local/simple-todo"
   ]
  },
  {
   "cell_type": "markdown",
   "id": "37099044-da59-4f6e-a250-1ba611741fc2",
   "metadata": {},
   "source": [
    "3. Use the curl command to test the container:"
   ]
  },
  {
   "cell_type": "code",
   "execution_count": null,
   "id": "7be9f884-1657-4507-b111-18f31475ff17",
   "metadata": {},
   "outputs": [],
   "source": [
    "curl -s localhost:12345/todos | jq ."
   ]
  },
  {
   "cell_type": "markdown",
   "id": "c2d9700b-590d-4c65-88bd-dc9227768dc4",
   "metadata": {},
   "source": [
    "4. Stop the container:"
   ]
  },
  {
   "cell_type": "code",
   "execution_count": null,
   "id": "62f9415c-e4b7-499d-a4a7-7145f8313134",
   "metadata": {},
   "outputs": [],
   "source": [
    "docker container stop todos"
   ]
  },
  {
   "cell_type": "markdown",
   "id": "aa042f58-95a6-4481-a6ec-516923973d14",
   "metadata": {},
   "source": [
    "## Create SBOM and check CVE's with Trivy\n",
    "After the container is built the SBOM can be created and the container can also be scanned for CVE's before pushing the container to a registry. Follow the steps below to generate a SBOM and scan for CVE's using Trivy\n",
    "\n",
    "1. Create SBOM for the container built:"
   ]
  },
  {
   "cell_type": "code",
   "execution_count": null,
   "id": "f8eb722e-775f-47e9-8a74-62601094327f",
   "metadata": {},
   "outputs": [],
   "source": [
    "trivy image --format cyclonedx --output sbom-todos.json registry.community2024.local/simple-todo"
   ]
  },
  {
   "cell_type": "markdown",
   "id": "378984c8-3b48-4130-91a7-627223ff9b95",
   "metadata": {},
   "source": [
    "2. Scan the container to generate the CVE report:"
   ]
  },
  {
   "cell_type": "code",
   "execution_count": null,
   "id": "4741193a-0685-4c4c-94c2-96c4496aac75",
   "metadata": {},
   "outputs": [],
   "source": [
    "trivy image -f sarif --output todos.sarif.json registry.community2024.local/simple-todo"
   ]
  },
  {
   "cell_type": "markdown",
   "id": "b5d61879-048c-4c67-a596-c4ca1a7952e1",
   "metadata": {},
   "source": [
    "> **_NOTE:_** If you want to review the CVE's in standard out: `trivy image registry.community2024.local/simple-todo`\n",
    "\n",
    "## Start the Chainloop & Keyfactor Containers\n",
    "The simple-todo container is now ready to push to the registry. Before the cotnainer can be pushed the supporting infrastructure must be started. Use the command below to start the infrastrucutre for this tutorial.\n",
    "\n",
    "1. Start the containers for the tutorial:\n"
   ]
  },
  {
   "cell_type": "code",
   "execution_count": null,
   "id": "f67960fb-7a76-4f21-b68e-6a667b06b280",
   "metadata": {},
   "outputs": [],
   "source": [
    "docker compose -f compose.labs.yaml up -d"
   ]
  },
  {
   "cell_type": "markdown",
   "id": "7882115d-3baf-4cf4-9709-77f0ac28accb",
   "metadata": {},
   "source": [
    "## Push the container to the OCI ZOT registry\n",
    "The container was built using Docker, but Docker does not completely follow the OCI specification. Therefore we need to use another tool that can push the container built with Docker to the OCI registry. Docker is used to export the container to file, and the Skopeo tool is used to push the container to the registry. Follow the steps below to add the container to the ZOT registry.\n",
    "\n",
    "1. Export the container from Docker to a tar file:"
   ]
  },
  {
   "cell_type": "code",
   "execution_count": null,
   "id": "be676580-e1fb-40a9-a2cf-19cc6cc4dcab",
   "metadata": {},
   "outputs": [],
   "source": [
    "docker image save -o todos.tar registry.community2024.local/simple-todo"
   ]
  },
  {
   "cell_type": "markdown",
   "id": "52a657d7-790c-4a23-af03-eff0415d6c97",
   "metadata": {},
   "source": [
    "2. Login to the ZOT registry with Skopeo:"
   ]
  },
  {
   "cell_type": "code",
   "execution_count": null,
   "id": "ed9050cd-9f2a-492a-9a7a-0369c6eb2966",
   "metadata": {},
   "outputs": [],
   "source": [
    "skopeo login -u user -p foo123 registry.community2024.local"
   ]
  },
  {
   "cell_type": "markdown",
   "id": "7f1b6258-1b33-4edd-9fa1-fde416963986",
   "metadata": {},
   "source": [
    "3. Push the container to the ZOT registry:"
   ]
  },
  {
   "cell_type": "code",
   "execution_count": null,
   "id": "b9362977-4d73-4a19-9c3c-2ce3f293c50c",
   "metadata": {},
   "outputs": [],
   "source": [
    "skopeo copy --format=oci --dest-tls-verify=true docker-archive:todos.tar  docker://registry.community2024.local/simple-todo"
   ]
  },
  {
   "cell_type": "markdown",
   "id": "fa8255ab-df61-41ef-a83b-dea4d3346f6e",
   "metadata": {},
   "source": [
    "4. Open another tab and navigate the ZOT registry **`https://registry.community2024.local`** where you can see the container available in the registry.\n",
    "\n",
    "## Sign the container with Cosign & SignServer\n",
    "You may have noticed from viewing the container in the registry there is an icon to inform if the container is signed or not signed. We will now sign the container following the steps below using Cosign and SignServer.\n",
    "\n",
    "1. Generate the container metadata payload describing the container image:"
   ]
  },
  {
   "cell_type": "code",
   "execution_count": null,
   "id": "bc48815c-4bb7-47d0-97cc-e99fd36037fc",
   "metadata": {},
   "outputs": [],
   "source": [
    "cosign generate registry.community2024.local/simple-todo:latest > simple-todo-payload.json"
   ]
  },
  {
   "cell_type": "markdown",
   "id": "304249de-676d-41f1-a21e-cf38f941a3d3",
   "metadata": {},
   "source": [
    "2. Review the contents of the `simple-todo-payload.json` file:"
   ]
  },
  {
   "cell_type": "code",
   "execution_count": null,
   "id": "68492547-5bf4-4e97-9be5-0bddeaeedbf2",
   "metadata": {},
   "outputs": [],
   "source": [
    "jq . simple-todo-payload.json"
   ]
  },
  {
   "cell_type": "markdown",
   "id": "96b7fd88-9338-4d38-a963-12c22bbd2352",
   "metadata": {},
   "source": [
    "3. Sign the `simple-todo-payload.json` with SignSever using the curl command:"
   ]
  },
  {
   "cell_type": "code",
   "execution_count": null,
   "id": "ddb375b1-9e40-4ff7-bbf7-0c6dec71a38c",
   "metadata": {},
   "outputs": [],
   "source": [
    "curl -sF workerName=PlainSigner -F file=@simple-todo-payload.json \\\n",
    "--output simple-todo-payload.json.sig \\\n",
    "https://sign.community2024.local/signserver/process"
   ]
  },
  {
   "cell_type": "markdown",
   "id": "41a75596-96f2-4005-9702-75f278a53d7a",
   "metadata": {},
   "source": [
    "4. Convert the signature from binary to base64:"
   ]
  },
  {
   "cell_type": "code",
   "execution_count": null,
   "id": "fb3fd038-4e0a-4522-a030-e2b07984cdad",
   "metadata": {},
   "outputs": [],
   "source": [
    "cat simple-todo-payload.json.sig | base64 > simple-todo-payload.json.sig.b64"
   ]
  },
  {
   "cell_type": "markdown",
   "id": "b79d7473-29f8-4e29-aeca-6774a122f6cf",
   "metadata": {},
   "source": [
    "5. Attach the signed metadata payload to the simple-todo image in the ZOT-registry using Cosign:"
   ]
  },
  {
   "cell_type": "code",
   "execution_count": null,
   "id": "05ff44f0-7977-4ac6-804d-108272a94d67",
   "metadata": {},
   "outputs": [],
   "source": [
    "cosign attach signature --payload simple-todo-payload.json \\\n",
    "--signature simple-todo-payload.json.sig.b64 \\\n",
    "registry.community2024.local/simple-todo:latest"
   ]
  },
  {
   "cell_type": "markdown",
   "id": "7ced2cb9-2bc6-4b32-834d-565007bb7dd9",
   "metadata": {},
   "source": [
    "6. Clean up the signature files now the signature was added to the container image:"
   ]
  },
  {
   "cell_type": "code",
   "execution_count": null,
   "id": "a7311c47-d985-4d69-9931-472cd5f48987",
   "metadata": {},
   "outputs": [],
   "source": [
    "rm -f simple-todo-payload.json*"
   ]
  },
  {
   "cell_type": "markdown",
   "id": "f3a44cf2-9745-48dd-b1ab-98348322e855",
   "metadata": {},
   "source": [
    "## Configure Chainloop\n",
    "Now the time comes to attest to what has been built and what to include in the build attestation. Before we can begin using Chainloop we need to obtain the authentication token and add the ZOT-registry where Chainloop will store all attestation artificts.\n",
    "\n",
    "1. Obtain the authentication token and populate the token in the chainloop client config file:"
   ]
  },
  {
   "cell_type": "code",
   "execution_count": null,
   "id": "4955e277-bf9e-49a9-a0cb-e07c3b2e027c",
   "metadata": {},
   "outputs": [],
   "source": [
    "TOKEN=$(docker logs chainloop-lab-control-plane-1 2>&1 | grep \"headless session:\" | jq -r .msg | cut -d ':' -f 2 | xargs)\n",
    "sed -i \"s/TKHOLDER/$TOKEN/g\" /home/user/.config/chainloop/config.toml"
   ]
  },
  {
   "cell_type": "markdown",
   "id": "aa614214",
   "metadata": {},
   "source": [
    "2. Create a default organization in Chainloop:"
   ]
  },
  {
   "cell_type": "code",
   "execution_count": null,
   "id": "4e147aeb",
   "metadata": {
    "vscode": {
     "languageId": "shellscript"
    }
   },
   "outputs": [],
   "source": [
    "chainloop org create --name community-day-2024"
   ]
  },
  {
   "cell_type": "markdown",
   "id": "b8b8f335-72ce-4bfc-b670-407636cf0c03",
   "metadata": {},
   "source": [
    "3. Add a the ZOT-registry to the Chainloop Content Addressable Storage (CAS) backend:"
   ]
  },
  {
   "cell_type": "code",
   "execution_count": null,
   "id": "8ec983fc-7208-468e-907a-3033b9111637",
   "metadata": {},
   "outputs": [],
   "source": [
    "chainloop cas-backend add oci \\\n",
    "    --name zot-registry \\\n",
    "    --repo registry.community2024.local/chainloop-devel \\\n",
    "    --username \"user\" \\\n",
    "    --password \"foo123\" \\\n",
    "    --default"
   ]
  },
  {
   "cell_type": "markdown",
   "id": "181d44e0-8b18-42de-8982-e96a982be55d",
   "metadata": {},
   "source": [
    "## Create a Chainloop workflow\n",
    "The backend storage and token are in place to use Chainloop for this tutorial. Next we need to create a workflow in Chainloop. Think of a workflow as part the pipeline for the automated build of your project, container, etc. The workflow can be associated with a contract that specifies rules for building. Such rules for example could be requiring a container to be part of the build or the SBOM. This is a very strong feature that should be explored further outside of this tutorial. Follow the steps below to create a workflow and associate a contract with the workflow.\n",
    "\n",
    "1. Create the workflow for the simple-todo container:"
   ]
  },
  {
   "cell_type": "code",
   "execution_count": null,
   "id": "8dde2570-3063-4312-8e66-44fcb8c947c9",
   "metadata": {},
   "outputs": [],
   "source": [
    "chainloop workflow create --name build-release --project simple-todo"
   ]
  },
  {
   "cell_type": "markdown",
   "id": "dc8b15c2-28bf-4f18-8171-4ff2f67aed22",
   "metadata": {},
   "source": [
    "2. Update the contract for the newly created build-release workflow:"
   ]
  },
  {
   "cell_type": "code",
   "execution_count": null,
   "id": "6a8d66c0-e505-41cc-a8dd-841e18792422",
   "metadata": {},
   "outputs": [],
   "source": [
    "chainloop wf contract update --name simple-todo-build-release --contract chainloop-contract.yaml"
   ]
  },
  {
   "cell_type": "markdown",
   "id": "ba743016-49e3-4b24-a402-c6ee1da0ae58",
   "metadata": {},
   "source": [
    "3. Create the API token that would be given to the development team to integrate the build system with Chainloop:"
   ]
  },
  {
   "cell_type": "code",
   "execution_count": null,
   "id": "1b426198-bc5f-40b4-81d7-ada9c3ff0bf6",
   "metadata": {},
   "outputs": [],
   "source": [
    "export CHAINLOOP_TOKEN=$(chainloop org api-token create --name simple-todo-api-token -o token)"
   ]
  },
  {
   "cell_type": "markdown",
   "id": "8474fa2a-b95c-4c9d-92c9-fae6f45ceaae",
   "metadata": {},
   "source": [
    "> **_NOTE:_** To revoke the token when done and use the command: `chainloop org api-token revoke --name simple-todo-api-token`\n",
    "\n",
    "## Create the attestation for the simple-todo container\n",
    "A workflow with a contract is now in place for the simple-todo project. Now we can create an attestation and add the material used to the attestation. To complete the attestation we will use SignServer to sign and Chainloop will publish this information to the ZOT-registry. Follow the steps below to begin the attestation.\n",
    "\n",
    "1. Initialize the attestation for the simple-todo workflow:"
   ]
  },
  {
   "cell_type": "code",
   "execution_count": null,
   "id": "1467d393-f823-4fd2-8a1b-d76dc2b571c9",
   "metadata": {},
   "outputs": [],
   "source": [
    "chainloop att init --name build-release"
   ]
  },
  {
   "cell_type": "markdown",
   "id": "66ff072c-60d7-4139-85a3-1ec2a7c46328",
   "metadata": {},
   "source": [
    "> **_NOTE:_** To reset the attestion to start over or cancel one in progress: `chainloop att init --name build-release --replace`\n",
    "\n",
    "2. Add the simple-todo container to the attestation:"
   ]
  },
  {
   "cell_type": "code",
   "execution_count": null,
   "id": "8d522b09-87bb-4631-aa03-bd7f48a75a5e",
   "metadata": {},
   "outputs": [],
   "source": [
    "chainloop att add --name container --value registry.community2024.local/simple-todo"
   ]
  },
  {
   "cell_type": "markdown",
   "id": "0c58c5f6-c5d5-458e-9c3a-564d7ed286af",
   "metadata": {},
   "source": [
    "3. Add the simple-todo container SBOM to the attestation:"
   ]
  },
  {
   "cell_type": "code",
   "execution_count": null,
   "id": "c34731a5-b221-4b87-bbe0-1e3a438ae27d",
   "metadata": {},
   "outputs": [],
   "source": [
    "chainloop att add --value sbom-todos.json"
   ]
  },
  {
   "cell_type": "markdown",
   "id": "0d270411",
   "metadata": {},
   "source": [
    "4. Add the simple-todo container SARIF report to the attestation:"
   ]
  },
  {
   "cell_type": "code",
   "execution_count": null,
   "id": "7c1558e8",
   "metadata": {
    "vscode": {
     "languageId": "shellscript"
    }
   },
   "outputs": [],
   "source": [
    "chainloop att add --value todos.sarif.json"
   ]
  },
  {
   "cell_type": "markdown",
   "id": "86d876be-45bd-4ebb-8451-999766bc0a9a",
   "metadata": {},
   "source": [
    "5. Before we complete the attestation lets review what is in the attestation:"
   ]
  },
  {
   "cell_type": "code",
   "execution_count": null,
   "id": "1c5dd7ae-5614-4432-a026-83aaa620c911",
   "metadata": {},
   "outputs": [],
   "source": [
    "chainloop att status --full"
   ]
  },
  {
   "cell_type": "markdown",
   "id": "c2117888-96c1-45f9-bcf6-97eea7ad7e11",
   "metadata": {},
   "source": [
    "6. Complete the attestation by signing the attestation with SignServer and pushing the artifacts to the ZOT-registry:"
   ]
  },
  {
   "cell_type": "code",
   "execution_count": null,
   "id": "a7f3d8b4-4ac9-449c-9764-3b9223558c1f",
   "metadata": {},
   "outputs": [],
   "source": [
    "chainloop attestation push --key signserver://sign.community2024.local/PlainSigner --signserver-ca-path container-configs/nginx/tls/ca.crt"
   ]
  },
  {
   "cell_type": "markdown",
   "id": "be6ee71e-8e87-46cc-8124-1f84b3e4b9e2",
   "metadata": {},
   "source": [
    "7. Copy the attestion ID from the output above and paste after the `ATT_ID=` in the box below to verify the signature on the signed attestation:"
   ]
  },
  {
   "cell_type": "code",
   "execution_count": null,
   "id": "3be4bd1d-6d80-4f2d-b5f0-bdece795cf6d",
   "metadata": {},
   "outputs": [],
   "source": [
    "EXPORT ATT_ID=\n",
    "chainloop workflow run describe --id \"$ATT_ID\" --verify true --cert PlainSigner.pem --cert-chain container-configs/nginx/tls/ca.crt"
   ]
  },
  {
   "cell_type": "markdown",
   "id": "674e8d11-9a3e-40e2-958f-f2618d5ba389",
   "metadata": {},
   "source": [
    "## Shutdown the containers\n",
    "Now that you have completed the labs you can shut down the containers. Use the step below to shutdown all the runnint containers.\n",
    "\n",
    "1. Shutdown the containers with Docker compose:"
   ]
  },
  {
   "cell_type": "code",
   "execution_count": null,
   "id": "328349a0-f992-4a51-8f78-52e0ba16cf6c",
   "metadata": {},
   "outputs": [],
   "source": [
    "docker compose -f compose.labs.yaml down"
   ]
  },
  {
   "cell_type": "markdown",
   "id": "cd15d073-fe07-42f8-a302-1a47c1852df5",
   "metadata": {},
   "source": [
    "This completes the Community Day 2024 Supply Chain Security tutorial with Chainloop and Keyfactor. If you have any questions you can reach us at:\n",
    "- Sven Rajala sven.rajala@keyfactor.com\n",
    "- Jose jiparis@chainloop.dev\n",
    "- Miguel miguel@chainloop.dev\n",
    "- Daniel daniel@chainloop.dev"
   ]
  },
  {
   "cell_type": "code",
   "execution_count": null,
   "id": "0ebb0c25-b427-4c03-8e6b-6ee58046ad3a",
   "metadata": {},
   "outputs": [],
   "source": []
  }
 ],
 "metadata": {
  "kernelspec": {
   "display_name": "Bash",
   "language": "bash",
   "name": "bash"
  },
  "language_info": {
   "codemirror_mode": "shell",
   "file_extension": ".sh",
   "mimetype": "text/x-sh",
   "name": "bash"
  }
 },
 "nbformat": 4,
 "nbformat_minor": 5
}
